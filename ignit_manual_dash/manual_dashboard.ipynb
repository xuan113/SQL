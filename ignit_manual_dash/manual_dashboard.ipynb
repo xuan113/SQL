{
 "cells": [
  {
   "cell_type": "markdown",
   "metadata": {},
   "source": [
    "## Test Parameters"
   ]
  },
  {
   "cell_type": "code",
   "execution_count": 1,
   "metadata": {
    "collapsed": true
   },
   "outputs": [],
   "source": [
    "username = 'alexl'\n",
    "testid = 6536\n",
    "tenure_grouping = 35\n",
    "allocation_start = 20150723\n",
    "allocation_end = 20150813"
   ]
  },
  {
   "cell_type": "markdown",
   "metadata": {
    "collapsed": false
   },
   "source": [
    "## Step 1: Manual Dashboard Prep"
   ]
  },
  {
   "cell_type": "code",
   "execution_count": 2,
   "metadata": {
    "collapsed": true
   },
   "outputs": [],
   "source": [
    "run_vhs_dump = 0"
   ]
  },
  {
   "cell_type": "code",
   "execution_count": 3,
   "metadata": {
    "collapsed": false
   },
   "outputs": [
    {
     "name": "stdout",
     "output_type": "stream",
     "text": [
      "Traceback (most recent call last):\n",
      "  File \"manual_dashboard_prep.py\", line 1, in <module>\n",
      "    from query_launcher import query_launcher\n",
      "  File \"/Users/alexliu/Downloads/prodexp-master/manual_dashboard/sql/query_launcher.py\", line 2, in <module>\n",
      "    import kragle as kg\n",
      "ImportError: No module named kragle\n",
      "CPU times: user 2 ms, sys: 4.35 ms, total: 6.35 ms\n",
      "Wall time: 138 ms\n"
     ]
    }
   ],
   "source": [
    "%%time\n",
    "!python manual_dashboard_prep.py -userdb {username} -testid {testid} -tenure_grouping {tenure_grouping} \\\\\n",
    "-allocation_start {allocation_start} -allocation_end {allocation_end} -run_vhs_dump {run_vhs_dump}"
   ]
  },
  {
   "cell_type": "markdown",
   "metadata": {},
   "source": [
    "## Step 2: Custom SQL"
   ]
  },
  {
   "cell_type": "markdown",
   "metadata": {},
   "source": [
    "### Allocation Filters"
   ]
  },
  {
   "cell_type": "code",
   "execution_count": 2,
   "metadata": {
    "collapsed": false
   },
   "outputs": [],
   "source": [
    "allocation_filters = []\n",
    "\n",
    "name = \"streamed_darwin\"\n",
    "query = \"\"\"\n",
    "SELECT DISTINCT account_id\n",
    "FROM alexl.vhs_dump_for_manual_dashboard_6536\n",
    "WHERE ui_version LIKE '%darwin%'\n",
    "AND region_dateint > -1\n",
    "\"\"\"\n",
    "allocation_filters.append((query, name))\n",
    "\n",
    "name = \"cross_allocated_5935\"\n",
    "query = \"\"\"\n",
    "SELECT DISTINCT account_id\n",
    "FROM dse.exp_allocation_denorm_f \n",
    "WHERE test_id = 5935\n",
    "\"\"\"\n",
    "allocation_filters.append((query, name))"
   ]
  },
  {
   "cell_type": "markdown",
   "metadata": {},
   "source": [
    "### Activity Filters"
   ]
  },
  {
   "cell_type": "code",
   "execution_count": 3,
   "metadata": {
    "collapsed": false
   },
   "outputs": [],
   "source": [
    "activity_filters = []\n",
    "\n",
    "name = \"ui_version\"\n",
    "query = \"CASE WHEN ui_version LIKE '%darwin%' THEN 'Darwin' ELSE 'Non-Darwin' END\"\n",
    "activity_filters.append((query, name))\n",
    "\n",
    "name = \"is_original\"\n",
    "query = \"CASE WHEN is_original = 1 THEN 'Original' ELSE 'Licensed' END\"\n",
    "activity_filters.append((query, name))\n",
    "\n",
    "name = \"is_novel\"\n",
    "query = \"CASE WHEN is_novel_play = 1 THEN 'Novel' ELSE 'Non-Novel' END\"\n",
    "activity_filters.append((query, name))"
   ]
  },
  {
   "cell_type": "markdown",
   "metadata": {},
   "source": [
    "### Optionally merge cells\n",
    "\n",
    "In the example below, we combine cells 2,3,4 into a new effective cell 10."
   ]
  },
  {
   "cell_type": "code",
   "execution_count": 6,
   "metadata": {
    "collapsed": true
   },
   "outputs": [],
   "source": [
    "cell_mapping = {(2,3,4):10}"
   ]
  },
  {
   "cell_type": "markdown",
   "metadata": {},
   "source": [
    "### Generate query"
   ]
  },
  {
   "cell_type": "code",
   "execution_count": 7,
   "metadata": {
    "collapsed": false
   },
   "outputs": [],
   "source": [
    "from manual_dashboard_generator import manual_dashboard_generator\n",
    "dashboard = manual_dashboard_generator(username)"
   ]
  },
  {
   "cell_type": "code",
   "execution_count": 8,
   "metadata": {
    "collapsed": false
   },
   "outputs": [],
   "source": [
    "test_params = {\n",
    "    'userdb':username,\n",
    "    'testid':testid,\n",
    "    'tenure_grouping':tenure_grouping\n",
    "    }\n",
    "\n",
    "dashboard.set_filters(allocation_filters, activity_filters, cell_mapping)\n",
    "query = dashboard.generate_query(test_params)"
   ]
  },
  {
   "cell_type": "code",
   "execution_count": 9,
   "metadata": {
    "collapsed": false,
    "scrolled": false
   },
   "outputs": [
    {
     "name": "stdout",
     "output_type": "stream",
     "text": [
      "use mramm;\n",
      "\n",
      "DROP TABLE IF EXISTS mramm.manual_dashboard_streaming_5846;\n",
      "CREATE TABLE mramm.manual_dashboard_streaming_5846 AS\n",
      "SELECT\n",
      "    test_id,\n",
      "    test_name,\n",
      "    test_cell_nbr,\n",
      "    test_cell_name AS name,\n",
      "    -- Standard filters\n",
      "    COALESCE(allocation_type, 'All Allocations') AS filter_allocation_type,\n",
      "    COALESCE(signup_region, 'All Allocations') AS filter_signup_region,\n",
      "    COALESCE(completed_activity_window, 'All Allocations') AS filter_completed_activity_window,\n",
      "    -- Allocation filters\n",
      "    COALESCE(CASE WHEN streamed_darwin.account_id IS NOT NULL THEN 1 ELSE 0 END, 'All Allocations') AS filter_streamed_darwin,\n",
      "COALESCE(CASE WHEN cross_allocated_5935.account_id IS NOT NULL THEN 1 ELSE 0 END, 'All Allocations') AS filter_cross_allocated_5935,\n",
      "    -- Activity Filters\n",
      "    CASE WHEN vhs.ui_version IS NULL THEN 'No Streaming' ELSE vhs.ui_version END AS filter_ui_version,\n",
      "CASE WHEN vhs.is_original IS NULL THEN 'No Streaming' ELSE vhs.is_original END AS filter_is_original,\n",
      "CASE WHEN vhs.is_novel IS NULL THEN 'No Streaming' ELSE vhs.is_novel END AS filter_is_novel,\n",
      "    -- Streaming tresholds\n",
      "    SUM(CASE WHEN vhs.total_sec >= 0 THEN 1 ELSE 0 END) AS tab1_99retention_and_streaming99streamed_ge0,\n",
      "    SUM(CASE WHEN vhs.total_sec >= 1 * 3600 THEN 1 ELSE 0 END) AS tab1_99retention_and_streaming99streamed_ge1,\n",
      "    SUM(CASE WHEN vhs.total_sec >= 5 * 3600 THEN 1 ELSE 0 END) AS tab1_99retention_and_streaming99streamed_ge5,\n",
      "    SUM(CASE WHEN vhs.total_sec >= 10 * 3600 THEN 1 ELSE 0 END) AS tab1_99retention_and_streaming99streamed_ge10,\n",
      "    SUM(CASE WHEN vhs.total_sec >= 20 * 3600 THEN 1 ELSE 0 END) AS tab1_99retention_and_streaming99streamed_ge20,\n",
      "    SUM(CASE WHEN vhs.total_sec >= 40 * 3600 THEN 1 ELSE 0 END) AS tab1_99retention_and_streaming99streamed_ge40,\n",
      "    SUM(CASE WHEN vhs.total_sec >= 80 * 3600 THEN 1 ELSE 0 END) AS tab1_99retention_and_streaming99streamed_ge80,\n",
      "    -- Retention and allocation counts\n",
      "    SUM(allocs.is_current_subscrn) AS cumulative_retention,\n",
      "    SUM(allocs.is_current_subscrn * allocs.current_plan_usd_price) AS collected_revenue,\n",
      "    SUM(allocs.current_plan_usd_price) AS potential_revenue,\n",
      "    SUM(allocs.is_ever_invol_cancel) AS mop_failure_rate,\n",
      "    COUNT(allocs.account_id) AS number_of_allocations\n",
      "FROM (\n",
      "    SELECT\n",
      "        test_id,\n",
      "        test_name,\n",
      "        account_id,\n",
      "        CASE WHEN test_cell_nbr IN (2, 3, 4) THEN 10 ELSE test_cell_nbr END AS test_cell_nbr,\n",
      "        CASE WHEN test_cell_nbr IN (2, 3, 4) THEN 'Combining (2, 3, 4)' ELSE test_cell_name END AS test_cell_name,\n",
      "        allocation_type,\n",
      "        signup_region,\n",
      "        completed_activity_window,\n",
      "        is_current_subscrn,\n",
      "        current_plan_usd_price,\n",
      "        is_ever_invol_cancel\n",
      "    FROM mramm.allocations_full_5846\n",
      "    ) allocs\n",
      "LEFT OUTER JOIN (\n",
      "        SELECT DISTINCT account_id\n",
      "FROM mramm.vhs_dump_for_manual_dashboard_5846\n",
      "WHERE ui_version LIKE '%darwin%'\n",
      "AND region_dateint > -1\n",
      "        ) streamed_darwin\n",
      "        ON allocs.account_id = streamed_darwin.account_id\n",
      "LEFT OUTER JOIN (\n",
      "        SELECT DISTINCT account_id\n",
      "FROM dse.exp_allocation_denorm_f \n",
      "WHERE test_id = 5935\n",
      "        ) cross_allocated_5935\n",
      "        ON allocs.account_id = cross_allocated_5935.account_id\n",
      "LEFT OUTER JOIN (\n",
      "    SELECT\n",
      "        account_id,\n",
      "        -- activity filters\n",
      "        COALESCE(CASE WHEN ui_version LIKE '%darwin%' THEN 'Darwin' ELSE 'Non-Darwin' END, 'All Streaming') AS ui_version,\n",
      "COALESCE(CASE WHEN is_original = 1 THEN 'Original' ELSE 'Licensed' END, 'All Streaming') AS is_original,\n",
      "COALESCE(CASE WHEN is_novel_play = 1 THEN 'Novel' ELSE 'Non-Novel' END, 'All Streaming') AS is_novel,\n",
      "        SUM(standard_sanitized_duration_sec) AS total_sec\n",
      "    FROM mramm.vhs_dump_for_manual_dashboard_5846\n",
      "    WHERE region_dateint > -1\n",
      "    AND days_since_allocation <= 35\n",
      "    GROUP BY\n",
      "        account_id,\n",
      "        -- activity filters\n",
      "        CASE WHEN ui_version LIKE '%darwin%' THEN 'Darwin' ELSE 'Non-Darwin' END,\n",
      "CASE WHEN is_original = 1 THEN 'Original' ELSE 'Licensed' END,\n",
      "CASE WHEN is_novel_play = 1 THEN 'Novel' ELSE 'Non-Novel' END\n",
      "    WITH CUBE\n",
      "    HAVING account_id IS NOT NULL\n",
      "    ) vhs\n",
      "ON allocs.account_id = vhs.account_id\n",
      "GROUP BY\n",
      "    test_id,\n",
      "    test_name,\n",
      "    test_cell_nbr,\n",
      "    test_cell_name,\n",
      "    allocation_type,\n",
      "    signup_region,\n",
      "    completed_activity_window,\n",
      "    -- allocation filters\n",
      "    CASE WHEN streamed_darwin.account_id IS NOT NULL THEN 1 ELSE 0 END,\n",
      "CASE WHEN cross_allocated_5935.account_id IS NOT NULL THEN 1 ELSE 0 END,\n",
      "    -- activity filters\n",
      "    CASE WHEN vhs.ui_version IS NULL THEN 'No Streaming' ELSE vhs.ui_version END,\n",
      "CASE WHEN vhs.is_original IS NULL THEN 'No Streaming' ELSE vhs.is_original END,\n",
      "CASE WHEN vhs.is_novel IS NULL THEN 'No Streaming' ELSE vhs.is_novel END\n",
      "WITH CUBE\n",
      "HAVING test_id IS NOT NULL\n",
      "AND test_name IS NOT NULL\n",
      "AND test_cell_nbr IS NOT NULL\n",
      "AND test_cell_name IS NOT NULL\n",
      "-- activity filters\n",
      "AND CASE WHEN vhs.ui_version IS NULL THEN 'No Streaming' ELSE vhs.ui_version END IS NOT NULL\n",
      "AND CASE WHEN vhs.is_original IS NULL THEN 'No Streaming' ELSE vhs.is_original END IS NOT NULL\n",
      "AND CASE WHEN vhs.is_novel IS NULL THEN 'No Streaming' ELSE vhs.is_novel END IS NOT NULL\n",
      ";\n",
      "\n",
      "DROP TABLE IF EXISTS mramm.manual_dashboard_5846;\n",
      "CREATE TABLE mramm.manual_dashboard_5846 AS\n",
      "SELECT \n",
      "    stream.test_id,\n",
      "    stream.test_name,\n",
      "    stream.test_cell_nbr,\n",
      "    stream.name,\n",
      "    stream.filter_allocation_type,\n",
      "    stream.filter_signup_region,\n",
      "    stream.filter_completed_activity_window,\n",
      "    -- allocation filters\n",
      "    stream.filter_streamed_darwin,\n",
      "stream.filter_cross_allocated_5935,\n",
      "    -- activity filters\n",
      "    stream.filter_ui_version,\n",
      "stream.filter_is_original,\n",
      "stream.filter_is_novel,\n",
      "    -- retention and streaming\n",
      "    ret.tab1_99retention_and_streaming99revenue_weighted_retention,\n",
      "    ret.tab1_99retention_and_streaming99cumulative_retention,\n",
      "    ret.tab1_99retention_and_streaming99mop_failure_rate,\n",
      "    stream.tab1_99retention_and_streaming99streamed_ge0,\n",
      "    stream.tab1_99retention_and_streaming99streamed_ge1,\n",
      "    stream.tab1_99retention_and_streaming99streamed_ge5,\n",
      "    stream.tab1_99retention_and_streaming99streamed_ge10,\n",
      "    stream.tab1_99retention_and_streaming99streamed_ge20,\n",
      "    stream.tab1_99retention_and_streaming99streamed_ge40,\n",
      "    stream.tab1_99retention_and_streaming99streamed_ge80,\n",
      "    ret.number_of_allocations\n",
      "FROM mramm.manual_dashboard_streaming_5846 stream\n",
      "JOIN (\n",
      "    SELECT\n",
      "        test_cell_nbr,\n",
      "        filter_allocation_type,\n",
      "        filter_signup_region,\n",
      "        filter_completed_activity_window,\n",
      "        -- allocation filters\n",
      "        filter_streamed_darwin,\n",
      "filter_cross_allocated_5935,\n",
      "        SUM(number_of_allocations) AS number_of_allocations,\n",
      "        SUM(cumulative_retention) AS tab1_99retention_and_streaming99cumulative_retention,\n",
      "        SUM(mop_failure_rate) AS tab1_99retention_and_streaming99mop_failure_rate,\n",
      "        SUM(number_of_allocations) * SUM(collected_revenue) / CAST(SUM(potential_revenue) AS DOUBLE) AS tab1_99retention_and_streaming99revenue_weighted_retention\n",
      "    FROM mramm.manual_dashboard_streaming_5846\n",
      "    -- activity filters\n",
      "    WHERE filter_ui_version IN ('All Streaming', 'No Streaming')\n",
      "AND filter_is_original IN ('All Streaming', 'No Streaming')\n",
      "AND filter_is_novel IN ('All Streaming', 'No Streaming')\n",
      "    GROUP BY \n",
      "        test_cell_nbr,\n",
      "        filter_allocation_type,\n",
      "        filter_signup_region,\n",
      "        filter_completed_activity_window,\n",
      "        -- allocation filters\n",
      "        filter_streamed_darwin,\n",
      "filter_cross_allocated_5935\n",
      "    ) ret\n",
      "ON stream.test_cell_nbr = ret.test_cell_nbr\n",
      "AND stream.filter_allocation_type = ret.filter_allocation_type\n",
      "AND stream.filter_signup_region = ret.filter_signup_region\n",
      "AND stream.filter_completed_activity_window = ret.filter_completed_activity_window\n",
      "-- allocation filters\n",
      "AND stream.filter_streamed_darwin = ret.filter_streamed_darwin\n",
      "AND stream.filter_cross_allocated_5935 = ret.filter_cross_allocated_5935\n",
      ";\n"
     ]
    }
   ],
   "source": [
    "print query"
   ]
  },
  {
   "cell_type": "code",
   "execution_count": 8,
   "metadata": {
    "collapsed": false,
    "scrolled": true
   },
   "outputs": [
    {
     "name": "stdout",
     "output_type": "stream",
     "text": [
      ".......................................................................................................................................\n"
     ]
    }
   ],
   "source": [
    "dashboard.run_dashboard(email = True)"
   ]
  }
 ],
 "metadata": {
  "kernelspec": {
   "display_name": "Python 2",
   "language": "python",
   "name": "python2"
  },
  "language_info": {
   "codemirror_mode": {
    "name": "ipython",
    "version": 2
   },
   "file_extension": ".py",
   "mimetype": "text/x-python",
   "name": "python",
   "nbconvert_exporter": "python",
   "pygments_lexer": "ipython2",
   "version": "2.7.10"
  }
 },
 "nbformat": 4,
 "nbformat_minor": 0
}
